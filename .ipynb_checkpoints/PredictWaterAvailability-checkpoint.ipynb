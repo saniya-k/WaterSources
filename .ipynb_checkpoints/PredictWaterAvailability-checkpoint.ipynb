{
 "cells": [
  {
   "cell_type": "code",
   "execution_count": 1,
   "metadata": {},
   "outputs": [],
   "source": [
    "import pandas as pd\n",
    "import matplotlib.pyplot as plt\n",
    "import seaborn as sns\n",
    "import plotly.express as px\n",
    "import plotly.graph_objects as go\n",
    "import numpy as np\n",
    "import matplotlib.patches as mpatches\n",
    "from sklearn.datasets import make_classification\n",
    "from sklearn.model_selection import cross_val_score\n",
    "from sklearn.model_selection import train_test_split\n",
    "from sklearn.model_selection import StratifiedShuffleSplit\n",
    "from sklearn.model_selection import StratifiedKFold\n",
    "from sklearn.ensemble import RandomForestClassifier\n",
    "from sklearn.experimental import enable_iterative_imputer\n",
    "from sklearn.impute import IterativeImputer\n",
    "from sklearn.linear_model import BayesianRidge\n",
    "from sklearn.utils import resample\n",
    "from sklearn.metrics import roc_curve\n",
    "from sklearn.metrics import roc_auc_score\n",
    "import scikitplot as skplt\n",
    "from sklearn.metrics import confusion_matrix"
   ]
  },
  {
   "cell_type": "markdown",
   "metadata": {},
   "source": [
    "code based on :\n",
    "https://www.youtube.com/watch?v=WYaNdxmlYUg"
   ]
  },
  {
   "cell_type": "markdown",
   "metadata": {},
   "source": [
    "### Load Data"
   ]
  },
  {
   "cell_type": "code",
   "execution_count": 2,
   "metadata": {},
   "outputs": [],
   "source": [
    "wtr=pd.read_csv('https://raw.githubusercontent.com/rfordatascience/tidytuesday/master/data/2021/2021-05-04/water.csv')"
   ]
  },
  {
   "cell_type": "code",
   "execution_count": 3,
   "metadata": {},
   "outputs": [
    {
     "data": {
      "text/html": [
       "<div>\n",
       "<style scoped>\n",
       "    .dataframe tbody tr th:only-of-type {\n",
       "        vertical-align: middle;\n",
       "    }\n",
       "\n",
       "    .dataframe tbody tr th {\n",
       "        vertical-align: top;\n",
       "    }\n",
       "\n",
       "    .dataframe thead th {\n",
       "        text-align: right;\n",
       "    }\n",
       "</style>\n",
       "<table border=\"1\" class=\"dataframe\">\n",
       "  <thead>\n",
       "    <tr style=\"text-align: right;\">\n",
       "      <th></th>\n",
       "      <th>row_id</th>\n",
       "      <th>lat_deg</th>\n",
       "      <th>lon_deg</th>\n",
       "      <th>report_date</th>\n",
       "      <th>status_id</th>\n",
       "      <th>water_source</th>\n",
       "      <th>water_tech</th>\n",
       "      <th>facility_type</th>\n",
       "      <th>country_name</th>\n",
       "      <th>install_year</th>\n",
       "      <th>installer</th>\n",
       "      <th>pay</th>\n",
       "      <th>status</th>\n",
       "    </tr>\n",
       "  </thead>\n",
       "  <tbody>\n",
       "    <tr>\n",
       "      <th>0</th>\n",
       "      <td>3957</td>\n",
       "      <td>8.073136</td>\n",
       "      <td>38.617037</td>\n",
       "      <td>04/06/2017</td>\n",
       "      <td>y</td>\n",
       "      <td>NaN</td>\n",
       "      <td>NaN</td>\n",
       "      <td>NaN</td>\n",
       "      <td>Ethiopia</td>\n",
       "      <td>NaN</td>\n",
       "      <td>Private-CRS</td>\n",
       "      <td>NaN</td>\n",
       "      <td>NaN</td>\n",
       "    </tr>\n",
       "    <tr>\n",
       "      <th>1</th>\n",
       "      <td>33512</td>\n",
       "      <td>7.373784</td>\n",
       "      <td>40.503824</td>\n",
       "      <td>08/04/2020</td>\n",
       "      <td>y</td>\n",
       "      <td>Protected Spring</td>\n",
       "      <td>NaN</td>\n",
       "      <td>Improved</td>\n",
       "      <td>Ethiopia</td>\n",
       "      <td>2019.0</td>\n",
       "      <td>WaterAid</td>\n",
       "      <td>NaN</td>\n",
       "      <td>NaN</td>\n",
       "    </tr>\n",
       "    <tr>\n",
       "      <th>2</th>\n",
       "      <td>35125</td>\n",
       "      <td>0.773458</td>\n",
       "      <td>34.929509</td>\n",
       "      <td>03/18/2015</td>\n",
       "      <td>y</td>\n",
       "      <td>Protected Shallow Well</td>\n",
       "      <td>NaN</td>\n",
       "      <td>Improved</td>\n",
       "      <td>Kenya</td>\n",
       "      <td>NaN</td>\n",
       "      <td>NaN</td>\n",
       "      <td>NaN</td>\n",
       "      <td>NaN</td>\n",
       "    </tr>\n",
       "    <tr>\n",
       "      <th>3</th>\n",
       "      <td>37760</td>\n",
       "      <td>0.780576</td>\n",
       "      <td>34.963640</td>\n",
       "      <td>03/18/2015</td>\n",
       "      <td>y</td>\n",
       "      <td>Borehole</td>\n",
       "      <td>NaN</td>\n",
       "      <td>Improved</td>\n",
       "      <td>Kenya</td>\n",
       "      <td>NaN</td>\n",
       "      <td>NaN</td>\n",
       "      <td>NaN</td>\n",
       "      <td>NaN</td>\n",
       "    </tr>\n",
       "    <tr>\n",
       "      <th>4</th>\n",
       "      <td>38118</td>\n",
       "      <td>0.779266</td>\n",
       "      <td>34.971120</td>\n",
       "      <td>03/18/2015</td>\n",
       "      <td>y</td>\n",
       "      <td>Protected Shallow Well</td>\n",
       "      <td>NaN</td>\n",
       "      <td>Improved</td>\n",
       "      <td>Kenya</td>\n",
       "      <td>NaN</td>\n",
       "      <td>NaN</td>\n",
       "      <td>NaN</td>\n",
       "      <td>NaN</td>\n",
       "    </tr>\n",
       "  </tbody>\n",
       "</table>\n",
       "</div>"
      ],
      "text/plain": [
       "   row_id   lat_deg    lon_deg report_date status_id            water_source  \\\n",
       "0    3957  8.073136  38.617037  04/06/2017         y                     NaN   \n",
       "1   33512  7.373784  40.503824  08/04/2020         y        Protected Spring   \n",
       "2   35125  0.773458  34.929509  03/18/2015         y  Protected Shallow Well   \n",
       "3   37760  0.780576  34.963640  03/18/2015         y                Borehole   \n",
       "4   38118  0.779266  34.971120  03/18/2015         y  Protected Shallow Well   \n",
       "\n",
       "  water_tech facility_type country_name  install_year    installer  pay status  \n",
       "0        NaN           NaN     Ethiopia           NaN  Private-CRS  NaN    NaN  \n",
       "1        NaN      Improved     Ethiopia        2019.0     WaterAid  NaN    NaN  \n",
       "2        NaN      Improved        Kenya           NaN          NaN  NaN    NaN  \n",
       "3        NaN      Improved        Kenya           NaN          NaN  NaN    NaN  \n",
       "4        NaN      Improved        Kenya           NaN          NaN  NaN    NaN  "
      ]
     },
     "execution_count": 3,
     "metadata": {},
     "output_type": "execute_result"
    }
   ],
   "source": [
    "wtr.head()"
   ]
  },
  {
   "cell_type": "markdown",
   "metadata": {},
   "source": [
    "Each row is source of water\n",
    "status id-->Y yes water is available\n",
    "U--> unknown"
   ]
  },
  {
   "cell_type": "code",
   "execution_count": 314,
   "metadata": {},
   "outputs": [
    {
     "data": {
      "text/html": [
       "<div>\n",
       "<style scoped>\n",
       "    .dataframe tbody tr th:only-of-type {\n",
       "        vertical-align: middle;\n",
       "    }\n",
       "\n",
       "    .dataframe tbody tr th {\n",
       "        vertical-align: top;\n",
       "    }\n",
       "\n",
       "    .dataframe thead th {\n",
       "        text-align: right;\n",
       "    }\n",
       "</style>\n",
       "<table border=\"1\" class=\"dataframe\">\n",
       "  <thead>\n",
       "    <tr style=\"text-align: right;\">\n",
       "      <th></th>\n",
       "      <th>row_id</th>\n",
       "      <th>lat_deg</th>\n",
       "      <th>lon_deg</th>\n",
       "      <th>install_year</th>\n",
       "    </tr>\n",
       "  </thead>\n",
       "  <tbody>\n",
       "    <tr>\n",
       "      <th>count</th>\n",
       "      <td>473293.000000</td>\n",
       "      <td>473293.000000</td>\n",
       "      <td>473293.000000</td>\n",
       "      <td>339003.000000</td>\n",
       "    </tr>\n",
       "    <tr>\n",
       "      <th>mean</th>\n",
       "      <td>277392.271244</td>\n",
       "      <td>1.581829</td>\n",
       "      <td>16.870186</td>\n",
       "      <td>2002.472775</td>\n",
       "    </tr>\n",
       "    <tr>\n",
       "      <th>std</th>\n",
       "      <td>170322.431844</td>\n",
       "      <td>10.202556</td>\n",
       "      <td>19.136223</td>\n",
       "      <td>11.864804</td>\n",
       "    </tr>\n",
       "    <tr>\n",
       "      <th>min</th>\n",
       "      <td>1.000000</td>\n",
       "      <td>-88.996556</td>\n",
       "      <td>-140.739594</td>\n",
       "      <td>1900.000000</td>\n",
       "    </tr>\n",
       "    <tr>\n",
       "      <th>25%</th>\n",
       "      <td>131158.000000</td>\n",
       "      <td>-0.628585</td>\n",
       "      <td>-0.724249</td>\n",
       "      <td>1998.000000</td>\n",
       "    </tr>\n",
       "    <tr>\n",
       "      <th>50%</th>\n",
       "      <td>253676.000000</td>\n",
       "      <td>4.933805</td>\n",
       "      <td>29.388622</td>\n",
       "      <td>2006.000000</td>\n",
       "    </tr>\n",
       "    <tr>\n",
       "      <th>75%</th>\n",
       "      <td>427525.000000</td>\n",
       "      <td>8.420984</td>\n",
       "      <td>32.204302</td>\n",
       "      <td>2010.000000</td>\n",
       "    </tr>\n",
       "    <tr>\n",
       "      <th>max</th>\n",
       "      <td>577803.000000</td>\n",
       "      <td>85.000000</td>\n",
       "      <td>179.483383</td>\n",
       "      <td>2045.000000</td>\n",
       "    </tr>\n",
       "  </tbody>\n",
       "</table>\n",
       "</div>"
      ],
      "text/plain": [
       "              row_id        lat_deg        lon_deg   install_year\n",
       "count  473293.000000  473293.000000  473293.000000  339003.000000\n",
       "mean   277392.271244       1.581829      16.870186    2002.472775\n",
       "std    170322.431844      10.202556      19.136223      11.864804\n",
       "min         1.000000     -88.996556    -140.739594    1900.000000\n",
       "25%    131158.000000      -0.628585      -0.724249    1998.000000\n",
       "50%    253676.000000       4.933805      29.388622    2006.000000\n",
       "75%    427525.000000       8.420984      32.204302    2010.000000\n",
       "max    577803.000000      85.000000     179.483383    2045.000000"
      ]
     },
     "execution_count": 314,
     "metadata": {},
     "output_type": "execute_result"
    }
   ],
   "source": [
    "wtr.describe()"
   ]
  },
  {
   "cell_type": "code",
   "execution_count": 315,
   "metadata": {},
   "outputs": [
    {
     "name": "stdout",
     "output_type": "stream",
     "text": [
      "<class 'pandas.core.frame.DataFrame'>\n",
      "RangeIndex: 473293 entries, 0 to 473292\n",
      "Data columns (total 13 columns):\n",
      " #   Column         Non-Null Count   Dtype  \n",
      "---  ------         --------------   -----  \n",
      " 0   row_id         473293 non-null  int64  \n",
      " 1   lat_deg        473293 non-null  float64\n",
      " 2   lon_deg        473293 non-null  float64\n",
      " 3   report_date    473293 non-null  object \n",
      " 4   status_id      473293 non-null  object \n",
      " 5   water_source   410579 non-null  object \n",
      " 6   water_tech     290703 non-null  object \n",
      " 7   facility_type  410485 non-null  object \n",
      " 8   country_name   473283 non-null  object \n",
      " 9   install_year   339003 non-null  float64\n",
      " 10  installer      115742 non-null  object \n",
      " 11  pay            258323 non-null  object \n",
      " 12  status         363298 non-null  object \n",
      "dtypes: float64(3), int64(1), object(9)\n",
      "memory usage: 46.9+ MB\n"
     ]
    }
   ],
   "source": [
    "wtr.info()"
   ]
  },
  {
   "cell_type": "code",
   "execution_count": 316,
   "metadata": {},
   "outputs": [
    {
     "data": {
      "text/plain": [
       "array(['y', 'u', 'n'], dtype=object)"
      ]
     },
     "execution_count": 316,
     "metadata": {},
     "output_type": "execute_result"
    }
   ],
   "source": [
    "wtr.status_id.unique()"
   ]
  },
  {
   "cell_type": "markdown",
   "metadata": {},
   "source": [
    "Lots of NA values\n",
    "pay--> whether people have to pay for data"
   ]
  },
  {
   "cell_type": "markdown",
   "metadata": {},
   "source": [
    "### Explore data\n",
    "When have spatial info, make map"
   ]
  },
  {
   "cell_type": "code",
   "execution_count": 4,
   "metadata": {},
   "outputs": [],
   "source": [
    "df=wtr.loc[wtr['status_id']!='u',:]"
   ]
  },
  {
   "cell_type": "code",
   "execution_count": 5,
   "metadata": {},
   "outputs": [],
   "source": [
    "#fig = go.Figure(data=go.Scattergeo(\n",
    "#        lon = df['lon_deg'],\n",
    "#        lat = df['lat_deg'],\n",
    "#        mode = 'markers'\n",
    "#        ))\n",
    "#\n",
    "#fig.update_layout(\n",
    "#        title = 'Most trafficked US airports<br>(Hover for airport names)',\n",
    "#        \n",
    "#    )\n",
    "#very slow\n",
    "#fig.show()"
   ]
  },
  {
   "cell_type": "code",
   "execution_count": 6,
   "metadata": {},
   "outputs": [
    {
     "name": "stderr",
     "output_type": "stream",
     "text": [
      "C:\\ProgramData\\Anaconda3\\lib\\site-packages\\seaborn\\_decorators.py:36: FutureWarning: Pass the following variables as keyword args: x, y. From version 0.12, the only valid positional argument will be `data`, and passing other arguments without an explicit keyword will result in an error or misinterpretation.\n",
      "  warnings.warn(\n"
     ]
    },
    {
     "data": {
      "text/plain": [
       "<AxesSubplot:xlabel='lon_deg', ylabel='lat_deg'>"
      ]
     },
     "execution_count": 6,
     "metadata": {},
     "output_type": "execute_result"
    },
    {
     "data": {
      "image/png": "[encoded data removed]",
      "text/plain": [
       "<Figure size 432x288 with 1 Axes>"
      ]
     },
     "metadata": {
      "needs_background": "light"
     },
     "output_type": "display_data"
    }
   ],
   "source": [
    "sns.scatterplot('lon_deg','lat_deg',alpha=0.2,hue='status_id',data=df)"
   ]
  },
  {
   "cell_type": "code",
   "execution_count": 7,
   "metadata": {},
   "outputs": [
    {
     "data": {
      "text/plain": [
       "Uganda                      119671\n",
       "Nigeria                      83703\n",
       "Sierra Leone                 67706\n",
       "Liberia                      33781\n",
       "Ethiopia                     25917\n",
       "Tanzania                     24923\n",
       "Swaziland                    23913\n",
       "Zimbabwe                     23695\n",
       "Ghana                        21334\n",
       "Kenya                        12153\n",
       "Zambia                        9093\n",
       "Congo - Kinshasa              7958\n",
       "South Sudan                   6885\n",
       "Rwanda                        2953\n",
       "Mozambique                    2478\n",
       "Central African Republic      2447\n",
       "Niger                         1101\n",
       "Burkina Faso                   820\n",
       "Madagascar                     800\n",
       "Mali                           648\n",
       "Peru                           579\n",
       "Timor-Leste                    400\n",
       "Gambia                         149\n",
       "Chad                            35\n",
       "Sudan                           34\n",
       "Congo - Brazzaville             29\n",
       "Namibia                         21\n",
       "South Africa                    15\n",
       "Algeria                         14\n",
       "Egypt                            8\n",
       "Mauritania                       7\n",
       "Dominican Republic               6\n",
       "Angola                           5\n",
       "Burundi                          2\n",
       "Name: country_name, dtype: int64"
      ]
     },
     "execution_count": 7,
     "metadata": {},
     "output_type": "execute_result"
    }
   ],
   "source": [
    "#filtering by country\n",
    "wtr['country_name'].value_counts()"
   ]
  },
  {
   "cell_type": "markdown",
   "metadata": {},
   "source": [
    "### Filtering to Sierra Leone Only"
   ]
  },
  {
   "cell_type": "code",
   "execution_count": 8,
   "metadata": {},
   "outputs": [],
   "source": [
    "df=df[(df['country_name']=='Sierra Leone') & (df['lat_deg']>0)&(df['lat_deg']<15)&(df['lon_deg']<0)]"
   ]
  },
  {
   "cell_type": "code",
   "execution_count": 9,
   "metadata": {},
   "outputs": [
    {
     "name": "stderr",
     "output_type": "stream",
     "text": [
      "C:\\ProgramData\\Anaconda3\\lib\\site-packages\\seaborn\\_decorators.py:36: FutureWarning: Pass the following variables as keyword args: x, y. From version 0.12, the only valid positional argument will be `data`, and passing other arguments without an explicit keyword will result in an error or misinterpretation.\n",
      "  warnings.warn(\n"
     ]
    },
    {
     "data": {
      "text/plain": [
       "<AxesSubplot:xlabel='lon_deg', ylabel='lat_deg'>"
      ]
     },
     "execution_count": 9,
     "metadata": {},
     "output_type": "execute_result"
    },
    {
     "data": {
      "image/png": "[encoded data removed]",
      "text/plain": [
       "<Figure size 432x288 with 1 Axes>"
      ]
     },
     "metadata": {
      "needs_background": "light"
     },
     "output_type": "display_data"
    }
   ],
   "source": [
    "sns.scatterplot('lon_deg','lat_deg',alpha=0.2,hue='status_id',data=df)"
   ]
  },
  {
   "cell_type": "markdown",
   "metadata": {},
   "source": [
    "### Model Creation\n",
    "Dropping unused columns such as country name, status and report_date"
   ]
  },
  {
   "cell_type": "code",
   "execution_count": 10,
   "metadata": {},
   "outputs": [],
   "source": [
    "water=df[df.columns[~df.columns.isin(['country_name','status','report_date'])]]"
   ]
  },
  {
   "cell_type": "markdown",
   "metadata": {},
   "source": [
    "#### checking levels for featuring engg...bundle less frequenctly occuring levels today"
   ]
  },
  {
   "cell_type": "code",
   "execution_count": 11,
   "metadata": {},
   "outputs": [
    {
     "data": {
      "text/plain": [
       "No- water is free                            20020\n",
       "No payment – its free                        17190\n",
       "Only if there is a breakdown                  2561\n",
       "No water                                      1806\n",
       "Yes, Flat rate (LE/HH/month)                  1034\n",
       "                                             ...  \n",
       "No  water                                        1\n",
       "Never water                                      1\n",
       "Yes, per jerrican Yes, per jerrican 20L0L        1\n",
       "It was bought                                    1\n",
       "Contains Micro organisms                         1\n",
       "Name: pay, Length: 62, dtype: int64"
      ]
     },
     "execution_count": 11,
     "metadata": {},
     "output_type": "execute_result"
    }
   ],
   "source": [
    "water['pay'].value_counts()"
   ]
  },
  {
   "cell_type": "code",
   "execution_count": 12,
   "metadata": {},
   "outputs": [
    {
     "data": {
      "text/plain": [
       "Hand Pump - India Mark     0.317369\n",
       "Rope and Bucket            0.272651\n",
       "Tapstand                   0.223129\n",
       "Hand Pump - Kardia         0.079227\n",
       "Hand Pump                  0.035554\n",
       "Hand Pump - PB Mark II     0.018631\n",
       "Hand Pump - Afridev        0.018370\n",
       "Hand Pump - Inkar          0.012360\n",
       "Kiosk                      0.010069\n",
       "Mechanized Pump            0.008542\n",
       "Hand Pump - Consallen      0.002050\n",
       "Hydram                     0.001246\n",
       "Hand Pump - Vergnet        0.000764\n",
       "Mechanized Pump - Solar    0.000040\n",
       "Name: water_tech, dtype: float64"
      ]
     },
     "execution_count": 12,
     "metadata": {},
     "output_type": "execute_result"
    }
   ],
   "source": [
    "water['water_tech'].value_counts(normalize=True)"
   ]
  },
  {
   "cell_type": "code",
   "execution_count": 13,
   "metadata": {},
   "outputs": [
    {
     "data": {
      "text/plain": [
       "Improved         29612\n",
       "Unimproved        8506\n",
       "No facilities      229\n",
       "Unknown             90\n",
       "Name: facility_type, dtype: int64"
      ]
     },
     "execution_count": 13,
     "metadata": {},
     "output_type": "execute_result"
    }
   ],
   "source": [
    "water['facility_type'].value_counts()"
   ]
  },
  {
   "cell_type": "code",
   "execution_count": 14,
   "metadata": {},
   "outputs": [
    {
     "data": {
      "text/plain": [
       "2010.0    4090\n",
       "2011.0    3975\n",
       "2009.0    2930\n",
       "2003.0    2926\n",
       "2008.0    2711\n",
       "          ... \n",
       "1943.0       2\n",
       "1942.0       2\n",
       "1932.0       2\n",
       "1934.0       1\n",
       "1931.0       1\n",
       "Name: install_year, Length: 78, dtype: int64"
      ]
     },
     "execution_count": 14,
     "metadata": {},
     "output_type": "execute_result"
    }
   ],
   "source": [
    "water['install_year'].value_counts()"
   ]
  },
  {
   "cell_type": "code",
   "execution_count": 15,
   "metadata": {},
   "outputs": [
    {
     "data": {
      "text/plain": [
       "Private Person                              7350\n",
       "Private                                     3325\n",
       "Government                                  2779\n",
       "Other                                       2646\n",
       "Religious Group                             2371\n",
       "                                            ... \n",
       "world vission area development programme       1\n",
       "JAPAN  S.L.                                    1\n",
       "cordsl                                         1\n",
       "CARITAS AND CORDAID NETHERLANDS                1\n",
       "uniself                                        1\n",
       "Name: installer, Length: 2842, dtype: int64"
      ]
     },
     "execution_count": 15,
     "metadata": {},
     "output_type": "execute_result"
    }
   ],
   "source": [
    "water['installer'].value_counts()"
   ]
  },
  {
   "cell_type": "code",
   "execution_count": 16,
   "metadata": {},
   "outputs": [
    {
     "data": {
      "text/plain": [
       "Protected Shallow Well                        22346\n",
       "Unprotected Shallow Well                       8411\n",
       "Borehole                                       4391\n",
       "Piped Water                                    1773\n",
       "Protected Spring                                589\n",
       "Sand or Sub-surface Dam                         430\n",
       "Surface Water (River/Stream/Lake/Pond/Dam)      229\n",
       "Unprotected Spring                               95\n",
       "Undefined Shallow Well                           86\n",
       "Rainwater Harvesting                             83\n",
       "Delivered Water                                  15\n",
       "Undefined Spring                                  4\n",
       "Name: water_source, dtype: int64"
      ]
     },
     "execution_count": 16,
     "metadata": {},
     "output_type": "execute_result"
    }
   ],
   "source": [
    "water['water_source'].value_counts()"
   ]
  },
  {
   "cell_type": "markdown",
   "metadata": {},
   "source": [
    "#### Feature Engineering"
   ]
  },
  {
   "cell_type": "code",
   "execution_count": 17,
   "metadata": {},
   "outputs": [
    {
     "name": "stderr",
     "output_type": "stream",
     "text": [
      "<ipython-input-17-a838088bf497>:3: SettingWithCopyWarning: \n",
      "A value is trying to be set on a copy of a slice from a DataFrame.\n",
      "Try using .loc[row_indexer,col_indexer] = value instead\n",
      "\n",
      "See the caveats in the documentation: https://pandas.pydata.org/pandas-docs/stable/user_guide/indexing.html#returning-a-view-versus-a-copy\n",
      "  water['pay']=np.where(water['pay'].str.startswith('No', na=False),'No',np.where(water['pay'].str.startswith('Yes', na=False),'Yes',np.where(water['pay'].isna(), np.nan,'its complicated')))\n"
     ]
    }
   ],
   "source": [
    "# collapse multiple paytypes..\n",
    "# if starts with No just say No, if starts with Yes, Say yes..null stay the same and otherwise its complicate\\d\n",
    "water['pay']=np.where(water['pay'].str.startswith('No', na=False),'No',np.where(water['pay'].str.startswith('Yes', na=False),'Yes',np.where(water['pay'].isna(), np.nan,'its complicated')))\n",
    "#water.loc[water['pay'].str.startswith('No', na=False),'pay']='No'\n",
    "#water.loc[water['pay'].str.startswith('Yes', na=False),'pay']='Yes'\n",
    "#water.loc[water['pay'].str.startswith('No', na=False),'pay']='No'"
   ]
  },
  {
   "cell_type": "code",
   "execution_count": 18,
   "metadata": {},
   "outputs": [
    {
     "data": {
      "text/plain": [
       "No                 39026\n",
       "nan                 9808\n",
       "its complicated     3091\n",
       "Yes                 2868\n",
       "Name: pay, dtype: int64"
      ]
     },
     "execution_count": 18,
     "metadata": {},
     "output_type": "execute_result"
    }
   ],
   "source": [
    "water['pay'].value_counts()"
   ]
  },
  {
   "cell_type": "code",
   "execution_count": 19,
   "metadata": {},
   "outputs": [
    {
     "name": "stderr",
     "output_type": "stream",
     "text": [
      "C:\\ProgramData\\Anaconda3\\lib\\site-packages\\pandas\\core\\indexing.py:1765: SettingWithCopyWarning: \n",
      "A value is trying to be set on a copy of a slice from a DataFrame.\n",
      "Try using .loc[row_indexer,col_indexer] = value instead\n",
      "\n",
      "See the caveats in the documentation: https://pandas.pydata.org/pandas-docs/stable/user_guide/indexing.html#returning-a-view-versus-a-copy\n",
      "  isetter(loc, value)\n"
     ]
    }
   ],
   "source": [
    "### Multiple 'Hand Pump Entries'-- collapse to single\n",
    "#water['water_tech']= \n",
    "water.loc[water['water_tech'].str.startswith('Hand Pump', na=False),'water_tech']='Hand Pump'"
   ]
  },
  {
   "cell_type": "markdown",
   "metadata": {},
   "source": [
    "### Older water sources are less likely to have water available and newer ones are more likely to have it avaialble"
   ]
  },
  {
   "cell_type": "code",
   "execution_count": 20,
   "metadata": {},
   "outputs": [
    {
     "data": {
      "image/png": "[encoded data removed]",
      "text/plain": [
       "<Figure size 1080x432 with 1 Axes>"
      ]
     },
     "metadata": {
      "needs_background": "light"
     },
     "output_type": "display_data"
    }
   ],
   "source": [
    "#histogram\n",
    "plt.figure(figsize=(15,6))\n",
    "\n",
    "sns.histplot(data= water, x='install_year',kde=False, stat=\"density\", hue='status_id',alpha=0.5)\n",
    "#plt.legend(title='Water Available?', prop={'size': 12})\n",
    "plt.title('Water source Availability over the years')\n",
    "plt.xlabel('Installation Year')\n",
    "plt.ylabel('Density')\n",
    "plt.show()\n",
    "#px.histogram(water,x='install_year',color='status_id')"
   ]
  },
  {
   "cell_type": "markdown",
   "metadata": {},
   "source": [
    "#### Payment Types vs Water source availability\n",
    "Having a NA value for payment is hugely associated with water not being available"
   ]
  },
  {
   "cell_type": "code",
   "execution_count": 21,
   "metadata": {},
   "outputs": [
    {
     "data": {
      "image/png": "[encoded data removed]",
      "text/plain": [
       "<Figure size 432x288 with 1 Axes>"
      ]
     },
     "metadata": {
      "needs_background": "light"
     },
     "output_type": "display_data"
    }
   ],
   "source": [
    "total=water.groupby('pay')['status_id'].count().reset_index()\n",
    "wtr_y=water[water.status_id=='y'].groupby('pay')['status_id'].count().reset_index()\n",
    "wtr_y['y_pct']=[i/j *100 for i,j in zip(wtr_y['status_id'],total['status_id'])]\n",
    "total['y_pct']=[i/j *100 for i,j in zip(total['status_id'],total['status_id'])]\n",
    "\n",
    "# bar chart 1 -> top bars (group of 'water=No')\n",
    "bar1 = sns.barplot(y=\"pay\",  x=\"y_pct\", data=total, color='darkorange')\n",
    "\n",
    "# bar chart 2 -> bottom bars (group of 'smoker=Yes')\n",
    "bar2 = sns.barplot(y=\"pay\", x=\"y_pct\", data=wtr_y, color='darkblue')\n",
    "\n",
    "# add legend\n",
    "top_bar = mpatches.Patch(color='darkorange', label='Water Available? = No')\n",
    "bottom_bar = mpatches.Patch(color='darkblue', label='Water Available ?= Yes')\n",
    "plt.legend(handles=[top_bar, bottom_bar])\n",
    "plt.xlabel('Percentage')\n",
    "plt.ylabel('Pay type')\n",
    "# show the graph\n",
    "plt.show()"
   ]
  },
  {
   "cell_type": "markdown",
   "metadata": {},
   "source": [
    "### Preprocessing"
   ]
  },
  {
   "cell_type": "code",
   "execution_count": 22,
   "metadata": {},
   "outputs": [],
   "source": [
    "#stratified split by 'status_id' into training and testing\n",
    "#X=water[water.columns[~water.columns.isin(['status_id'])]]#.values\n",
    "X=water\n",
    "y=water.loc[:,'status_id']#.values #.values converts to numpy ndarray needed for stratfied k fold\n",
    "X_train, X_test, y_train, y_test = train_test_split(X, y,\n",
    "                                                    stratify=y, \n",
    "                                                    test_size=0.25)\n",
    "X_test=X_test[X_test.columns[~X_test.columns.isin(['status_id'])]]"
   ]
  },
  {
   "cell_type": "code",
   "execution_count": 23,
   "metadata": {},
   "outputs": [
    {
     "data": {
      "text/html": [
       "<div>\n",
       "<style scoped>\n",
       "    .dataframe tbody tr th:only-of-type {\n",
       "        vertical-align: middle;\n",
       "    }\n",
       "\n",
       "    .dataframe tbody tr th {\n",
       "        vertical-align: top;\n",
       "    }\n",
       "\n",
       "    .dataframe thead th {\n",
       "        text-align: right;\n",
       "    }\n",
       "</style>\n",
       "<table border=\"1\" class=\"dataframe\">\n",
       "  <thead>\n",
       "    <tr style=\"text-align: right;\">\n",
       "      <th></th>\n",
       "      <th>row_id</th>\n",
       "      <th>lat_deg</th>\n",
       "      <th>lon_deg</th>\n",
       "      <th>water_source</th>\n",
       "      <th>water_tech</th>\n",
       "      <th>facility_type</th>\n",
       "      <th>install_year</th>\n",
       "      <th>installer</th>\n",
       "      <th>pay</th>\n",
       "    </tr>\n",
       "  </thead>\n",
       "  <tbody>\n",
       "    <tr>\n",
       "      <th>247313</th>\n",
       "      <td>267808</td>\n",
       "      <td>8.622331</td>\n",
       "      <td>-10.942224</td>\n",
       "      <td>Protected Shallow Well</td>\n",
       "      <td>Hand Pump</td>\n",
       "      <td>Improved</td>\n",
       "      <td>2005.0</td>\n",
       "      <td>UNICEF</td>\n",
       "      <td>nan</td>\n",
       "    </tr>\n",
       "    <tr>\n",
       "      <th>413510</th>\n",
       "      <td>505938</td>\n",
       "      <td>9.351719</td>\n",
       "      <td>-12.660261</td>\n",
       "      <td>Protected Shallow Well</td>\n",
       "      <td>Hand Pump</td>\n",
       "      <td>Improved</td>\n",
       "      <td>1993.0</td>\n",
       "      <td>Action Aid</td>\n",
       "      <td>No</td>\n",
       "    </tr>\n",
       "    <tr>\n",
       "      <th>416629</th>\n",
       "      <td>504048</td>\n",
       "      <td>9.549667</td>\n",
       "      <td>-12.284527</td>\n",
       "      <td>Protected Shallow Well</td>\n",
       "      <td>Hand Pump</td>\n",
       "      <td>Improved</td>\n",
       "      <td>2010.0</td>\n",
       "      <td>United Nations (UN)</td>\n",
       "      <td>No</td>\n",
       "    </tr>\n",
       "    <tr>\n",
       "      <th>237362</th>\n",
       "      <td>257098</td>\n",
       "      <td>7.778377</td>\n",
       "      <td>-11.770757</td>\n",
       "      <td>Protected Shallow Well</td>\n",
       "      <td>Hand Pump</td>\n",
       "      <td>Improved</td>\n",
       "      <td>2016.0</td>\n",
       "      <td>World Vision</td>\n",
       "      <td>No</td>\n",
       "    </tr>\n",
       "    <tr>\n",
       "      <th>422511</th>\n",
       "      <td>509970</td>\n",
       "      <td>8.396580</td>\n",
       "      <td>-13.143620</td>\n",
       "      <td>NaN</td>\n",
       "      <td>Tapstand</td>\n",
       "      <td>NaN</td>\n",
       "      <td>2006.0</td>\n",
       "      <td>GVWC</td>\n",
       "      <td>No</td>\n",
       "    </tr>\n",
       "  </tbody>\n",
       "</table>\n",
       "</div>"
      ],
      "text/plain": [
       "        row_id   lat_deg    lon_deg            water_source water_tech  \\\n",
       "247313  267808  8.622331 -10.942224  Protected Shallow Well  Hand Pump   \n",
       "413510  505938  9.351719 -12.660261  Protected Shallow Well  Hand Pump   \n",
       "416629  504048  9.549667 -12.284527  Protected Shallow Well  Hand Pump   \n",
       "237362  257098  7.778377 -11.770757  Protected Shallow Well  Hand Pump   \n",
       "422511  509970  8.396580 -13.143620                     NaN   Tapstand   \n",
       "\n",
       "       facility_type  install_year            installer  pay  \n",
       "247313      Improved        2005.0               UNICEF  nan  \n",
       "413510      Improved        1993.0           Action Aid   No  \n",
       "416629      Improved        2010.0  United Nations (UN)   No  \n",
       "237362      Improved        2016.0         World Vision   No  \n",
       "422511           NaN        2006.0                 GVWC   No  "
      ]
     },
     "execution_count": 23,
     "metadata": {},
     "output_type": "execute_result"
    }
   ],
   "source": [
    "X_test.head()"
   ]
  },
  {
   "cell_type": "code",
   "execution_count": 24,
   "metadata": {},
   "outputs": [
    {
     "data": {
      "text/plain": [
       "y    30764\n",
       "n    10330\n",
       "Name: status_id, dtype: int64"
      ]
     },
     "execution_count": 24,
     "metadata": {},
     "output_type": "execute_result"
    }
   ],
   "source": [
    "X_train.status_id.value_counts()\n"
   ]
  },
  {
   "cell_type": "markdown",
   "metadata": {},
   "source": [
    "##### Downsample prediction variable"
   ]
  },
  {
   "cell_type": "code",
   "execution_count": 25,
   "metadata": {},
   "outputs": [
    {
     "data": {
      "text/plain": [
       "n    10330\n",
       "y    10330\n",
       "Name: status_id, dtype: int64"
      ]
     },
     "execution_count": 25,
     "metadata": {},
     "output_type": "execute_result"
    }
   ],
   "source": [
    "#downsample\n",
    "# Separate majority and minority classes\n",
    "X_train_majority = X_train[X_train.status_id=='y']\n",
    "X_train_minority = X_train[X_train.status_id=='n']\n",
    " \n",
    "# Downsample majority class\n",
    "X_train_majority_downsampled = resample(X_train_majority, \n",
    "                                 replace=False,    # sample without replacement\n",
    "                                 n_samples=10330,     # to match minority class\n",
    "                                 random_state=123) # reproducible results\n",
    " \n",
    "# Combine minority class with downsampled majority class\n",
    "X_train_downsampled = pd.concat([X_train_majority_downsampled, X_train_minority])\n",
    " \n",
    "# Display new class counts\n",
    "X_train_downsampled.status_id.value_counts()"
   ]
  },
  {
   "cell_type": "code",
   "execution_count": 26,
   "metadata": {},
   "outputs": [
    {
     "data": {
      "text/html": [
       "<div>\n",
       "<style scoped>\n",
       "    .dataframe tbody tr th:only-of-type {\n",
       "        vertical-align: middle;\n",
       "    }\n",
       "\n",
       "    .dataframe tbody tr th {\n",
       "        vertical-align: top;\n",
       "    }\n",
       "\n",
       "    .dataframe thead th {\n",
       "        text-align: right;\n",
       "    }\n",
       "</style>\n",
       "<table border=\"1\" class=\"dataframe\">\n",
       "  <thead>\n",
       "    <tr style=\"text-align: right;\">\n",
       "      <th></th>\n",
       "      <th>row_id</th>\n",
       "      <th>lat_deg</th>\n",
       "      <th>lon_deg</th>\n",
       "      <th>water_source</th>\n",
       "      <th>water_tech</th>\n",
       "      <th>facility_type</th>\n",
       "      <th>install_year</th>\n",
       "      <th>installer</th>\n",
       "      <th>pay</th>\n",
       "    </tr>\n",
       "  </thead>\n",
       "  <tbody>\n",
       "    <tr>\n",
       "      <th>422043</th>\n",
       "      <td>508072</td>\n",
       "      <td>8.846338</td>\n",
       "      <td>-12.842955</td>\n",
       "      <td>Protected Shallow Well</td>\n",
       "      <td>Hand Pump</td>\n",
       "      <td>Improved</td>\n",
       "      <td>2007.0</td>\n",
       "      <td>Webco</td>\n",
       "      <td>No</td>\n",
       "    </tr>\n",
       "    <tr>\n",
       "      <th>211819</th>\n",
       "      <td>224889</td>\n",
       "      <td>8.349980</td>\n",
       "      <td>-12.842480</td>\n",
       "      <td>Protected Shallow Well</td>\n",
       "      <td>Hand Pump</td>\n",
       "      <td>Improved</td>\n",
       "      <td>1991.0</td>\n",
       "      <td>Care</td>\n",
       "      <td>No</td>\n",
       "    </tr>\n",
       "    <tr>\n",
       "      <th>241461</th>\n",
       "      <td>260224</td>\n",
       "      <td>8.627976</td>\n",
       "      <td>-11.664382</td>\n",
       "      <td>Protected Shallow Well</td>\n",
       "      <td>Hand Pump</td>\n",
       "      <td>Improved</td>\n",
       "      <td>2013.0</td>\n",
       "      <td>UNICEF</td>\n",
       "      <td>No</td>\n",
       "    </tr>\n",
       "    <tr>\n",
       "      <th>251813</th>\n",
       "      <td>264467</td>\n",
       "      <td>7.886657</td>\n",
       "      <td>-11.189187</td>\n",
       "      <td>NaN</td>\n",
       "      <td>Rope and Bucket</td>\n",
       "      <td>NaN</td>\n",
       "      <td>2009.0</td>\n",
       "      <td>NaN</td>\n",
       "      <td>No</td>\n",
       "    </tr>\n",
       "    <tr>\n",
       "      <th>417099</th>\n",
       "      <td>504695</td>\n",
       "      <td>8.376578</td>\n",
       "      <td>-12.428606</td>\n",
       "      <td>Protected Shallow Well</td>\n",
       "      <td>Hand Pump</td>\n",
       "      <td>Improved</td>\n",
       "      <td>1985.0</td>\n",
       "      <td>UMCOR</td>\n",
       "      <td>No</td>\n",
       "    </tr>\n",
       "  </tbody>\n",
       "</table>\n",
       "</div>"
      ],
      "text/plain": [
       "        row_id   lat_deg    lon_deg            water_source       water_tech  \\\n",
       "422043  508072  8.846338 -12.842955  Protected Shallow Well        Hand Pump   \n",
       "211819  224889  8.349980 -12.842480  Protected Shallow Well        Hand Pump   \n",
       "241461  260224  8.627976 -11.664382  Protected Shallow Well        Hand Pump   \n",
       "251813  264467  7.886657 -11.189187                     NaN  Rope and Bucket   \n",
       "417099  504695  8.376578 -12.428606  Protected Shallow Well        Hand Pump   \n",
       "\n",
       "       facility_type  install_year installer pay  \n",
       "422043      Improved        2007.0     Webco  No  \n",
       "211819      Improved        1991.0      Care  No  \n",
       "241461      Improved        2013.0    UNICEF  No  \n",
       "251813           NaN        2009.0       NaN  No  \n",
       "417099      Improved        1985.0     UMCOR  No  "
      ]
     },
     "execution_count": 26,
     "metadata": {},
     "output_type": "execute_result"
    }
   ],
   "source": [
    "X_train=X_train_downsampled\n",
    "y_train=X_train.loc[:,'status_id']\n",
    "X_train=X_train[X_train.columns[~X_train.columns.isin(['status_id'])]]\n",
    "X_train.head()"
   ]
  },
  {
   "cell_type": "code",
   "execution_count": 27,
   "metadata": {},
   "outputs": [
    {
     "data": {
      "text/plain": [
       "422043    y\n",
       "211819    y\n",
       "241461    y\n",
       "251813    y\n",
       "417099    y\n",
       "         ..\n",
       "423182    n\n",
       "389971    n\n",
       "243333    n\n",
       "239828    n\n",
       "396985    n\n",
       "Name: status_id, Length: 20660, dtype: object"
      ]
     },
     "execution_count": 27,
     "metadata": {},
     "output_type": "execute_result"
    }
   ],
   "source": [
    "y_train"
   ]
  },
  {
   "cell_type": "markdown",
   "metadata": {},
   "source": [
    "#### Treating multiple levels"
   ]
  },
  {
   "cell_type": "markdown",
   "metadata": {},
   "source": [
    "Change NA levels to unknown for object datatypes"
   ]
  },
  {
   "cell_type": "code",
   "execution_count": 28,
   "metadata": {},
   "outputs": [
    {
     "name": "stderr",
     "output_type": "stream",
     "text": [
      "C:\\ProgramData\\Anaconda3\\lib\\site-packages\\pandas\\core\\indexing.py:1717: SettingWithCopyWarning: \n",
      "A value is trying to be set on a copy of a slice from a DataFrame.\n",
      "Try using .loc[row_indexer,col_indexer] = value instead\n",
      "\n",
      "See the caveats in the documentation: https://pandas.pydata.org/pandas-docs/stable/user_guide/indexing.html#returning-a-view-versus-a-copy\n",
      "  isetter(loc, v)\n"
     ]
    }
   ],
   "source": [
    "#fill NA by 'unknown' level for object dtypes , replace less frequent levels by 'other'\n",
    "X_train.loc[:,X_train.select_dtypes(include = [\"object\"]).columns] = X_train.select_dtypes(include=['object']).apply(lambda x :x.fillna('unknown'))\n",
    "#X_train.fillna('unknown')"
   ]
  },
  {
   "cell_type": "code",
   "execution_count": 29,
   "metadata": {},
   "outputs": [
    {
     "name": "stderr",
     "output_type": "stream",
     "text": [
      "C:\\ProgramData\\Anaconda3\\lib\\site-packages\\pandas\\core\\indexing.py:1765: SettingWithCopyWarning: \n",
      "A value is trying to be set on a copy of a slice from a DataFrame.\n",
      "Try using .loc[row_indexer,col_indexer] = value instead\n",
      "\n",
      "See the caveats in the documentation: https://pandas.pydata.org/pandas-docs/stable/user_guide/indexing.html#returning-a-view-versus-a-copy\n",
      "  isetter(loc, value)\n"
     ]
    }
   ],
   "source": [
    "#TODO: change pay nan to unknown\n",
    "X_train.loc[X_train.pay=='nan','pay']='unknown'"
   ]
  },
  {
   "cell_type": "code",
   "execution_count": 30,
   "metadata": {},
   "outputs": [
    {
     "data": {
      "text/html": [
       "<div>\n",
       "<style scoped>\n",
       "    .dataframe tbody tr th:only-of-type {\n",
       "        vertical-align: middle;\n",
       "    }\n",
       "\n",
       "    .dataframe tbody tr th {\n",
       "        vertical-align: top;\n",
       "    }\n",
       "\n",
       "    .dataframe thead th {\n",
       "        text-align: right;\n",
       "    }\n",
       "</style>\n",
       "<table border=\"1\" class=\"dataframe\">\n",
       "  <thead>\n",
       "    <tr style=\"text-align: right;\">\n",
       "      <th></th>\n",
       "      <th>row_id</th>\n",
       "      <th>lat_deg</th>\n",
       "      <th>lon_deg</th>\n",
       "      <th>water_source</th>\n",
       "      <th>water_tech</th>\n",
       "      <th>facility_type</th>\n",
       "      <th>install_year</th>\n",
       "      <th>installer</th>\n",
       "      <th>pay</th>\n",
       "    </tr>\n",
       "  </thead>\n",
       "  <tbody>\n",
       "  </tbody>\n",
       "</table>\n",
       "</div>"
      ],
      "text/plain": [
       "Empty DataFrame\n",
       "Columns: [row_id, lat_deg, lon_deg, water_source, water_tech, facility_type, install_year, installer, pay]\n",
       "Index: []"
      ]
     },
     "execution_count": 30,
     "metadata": {},
     "output_type": "execute_result"
    }
   ],
   "source": [
    "X_train.loc[X_train.pay=='nan']"
   ]
  },
  {
   "cell_type": "markdown",
   "metadata": {},
   "source": [
    "For categories <3% assign 'other' factor level"
   ]
  },
  {
   "cell_type": "code",
   "execution_count": 31,
   "metadata": {},
   "outputs": [
    {
     "data": {
      "text/plain": [
       "other                  0.431220\n",
       "unknown                0.125266\n",
       "Private Person         0.106050\n",
       "Government             0.055808\n",
       "Other                  0.049516\n",
       "Private                0.048887\n",
       "Religious Group        0.041142\n",
       "United Nations (UN)    0.040707\n",
       "Water Aid              0.036689\n",
       "GVWC                   0.033059\n",
       "Community              0.031655\n",
       "Name: installer, dtype: float64"
      ]
     },
     "execution_count": 31,
     "metadata": {},
     "output_type": "execute_result"
    }
   ],
   "source": [
    "\n",
    "X_train=X_train.apply(lambda x: x.mask(x.map(x.value_counts(normalize=True))<0.03, 'other') if x.dtype=='object' else x)\n",
    "X_train['installer'].value_counts(normalize=True)"
   ]
  },
  {
   "cell_type": "markdown",
   "metadata": {},
   "source": [
    "'Install_year' NA impute using linear model"
   ]
  },
  {
   "cell_type": "code",
   "execution_count": 32,
   "metadata": {},
   "outputs": [],
   "source": [
    "X_train['install_year'].isna().sum()\n",
    "X_train_num=X_train.select_dtypes(include=np.number)"
   ]
  },
  {
   "cell_type": "code",
   "execution_count": 33,
   "metadata": {},
   "outputs": [
    {
     "data": {
      "text/plain": [
       "0"
      ]
     },
     "execution_count": 33,
     "metadata": {},
     "output_type": "execute_result"
    }
   ],
   "source": [
    "# Regression imputation\n",
    "imputer = IterativeImputer(BayesianRidge())\n",
    "imputed_X_train_n = pd.DataFrame(imputer.fit_transform(X_train_num))\n",
    "imputed_X_train_n.columns=X_train_num.columns\n",
    "imputed_X_train_n['install_year'].isna().sum()"
   ]
  },
  {
   "cell_type": "code",
   "execution_count": 34,
   "metadata": {},
   "outputs": [
    {
     "data": {
      "text/html": [
       "<div>\n",
       "<style scoped>\n",
       "    .dataframe tbody tr th:only-of-type {\n",
       "        vertical-align: middle;\n",
       "    }\n",
       "\n",
       "    .dataframe tbody tr th {\n",
       "        vertical-align: top;\n",
       "    }\n",
       "\n",
       "    .dataframe thead th {\n",
       "        text-align: right;\n",
       "    }\n",
       "</style>\n",
       "<table border=\"1\" class=\"dataframe\">\n",
       "  <thead>\n",
       "    <tr style=\"text-align: right;\">\n",
       "      <th></th>\n",
       "      <th>row_id</th>\n",
       "      <th>lat_deg</th>\n",
       "      <th>lon_deg</th>\n",
       "      <th>water_source</th>\n",
       "      <th>water_tech</th>\n",
       "      <th>facility_type</th>\n",
       "      <th>installer</th>\n",
       "      <th>pay</th>\n",
       "      <th>install_year</th>\n",
       "    </tr>\n",
       "  </thead>\n",
       "  <tbody>\n",
       "    <tr>\n",
       "      <th>0</th>\n",
       "      <td>508072</td>\n",
       "      <td>8.846338</td>\n",
       "      <td>-12.842955</td>\n",
       "      <td>Protected Shallow Well</td>\n",
       "      <td>Hand Pump</td>\n",
       "      <td>Improved</td>\n",
       "      <td>other</td>\n",
       "      <td>No</td>\n",
       "      <td>2007.0</td>\n",
       "    </tr>\n",
       "    <tr>\n",
       "      <th>1</th>\n",
       "      <td>224889</td>\n",
       "      <td>8.349980</td>\n",
       "      <td>-12.842480</td>\n",
       "      <td>Protected Shallow Well</td>\n",
       "      <td>Hand Pump</td>\n",
       "      <td>Improved</td>\n",
       "      <td>other</td>\n",
       "      <td>No</td>\n",
       "      <td>1991.0</td>\n",
       "    </tr>\n",
       "    <tr>\n",
       "      <th>2</th>\n",
       "      <td>260224</td>\n",
       "      <td>8.627976</td>\n",
       "      <td>-11.664382</td>\n",
       "      <td>Protected Shallow Well</td>\n",
       "      <td>Hand Pump</td>\n",
       "      <td>Improved</td>\n",
       "      <td>other</td>\n",
       "      <td>No</td>\n",
       "      <td>2013.0</td>\n",
       "    </tr>\n",
       "    <tr>\n",
       "      <th>3</th>\n",
       "      <td>264467</td>\n",
       "      <td>7.886657</td>\n",
       "      <td>-11.189187</td>\n",
       "      <td>unknown</td>\n",
       "      <td>Rope and Bucket</td>\n",
       "      <td>unknown</td>\n",
       "      <td>unknown</td>\n",
       "      <td>No</td>\n",
       "      <td>2009.0</td>\n",
       "    </tr>\n",
       "    <tr>\n",
       "      <th>4</th>\n",
       "      <td>504695</td>\n",
       "      <td>8.376578</td>\n",
       "      <td>-12.428606</td>\n",
       "      <td>Protected Shallow Well</td>\n",
       "      <td>Hand Pump</td>\n",
       "      <td>Improved</td>\n",
       "      <td>other</td>\n",
       "      <td>No</td>\n",
       "      <td>1985.0</td>\n",
       "    </tr>\n",
       "  </tbody>\n",
       "</table>\n",
       "</div>"
      ],
      "text/plain": [
       "   row_id   lat_deg    lon_deg            water_source       water_tech  \\\n",
       "0  508072  8.846338 -12.842955  Protected Shallow Well        Hand Pump   \n",
       "1  224889  8.349980 -12.842480  Protected Shallow Well        Hand Pump   \n",
       "2  260224  8.627976 -11.664382  Protected Shallow Well        Hand Pump   \n",
       "3  264467  7.886657 -11.189187                 unknown  Rope and Bucket   \n",
       "4  504695  8.376578 -12.428606  Protected Shallow Well        Hand Pump   \n",
       "\n",
       "  facility_type installer pay  install_year  \n",
       "0      Improved     other  No        2007.0  \n",
       "1      Improved     other  No        1991.0  \n",
       "2      Improved     other  No        2013.0  \n",
       "3       unknown   unknown  No        2009.0  \n",
       "4      Improved     other  No        1985.0  "
      ]
     },
     "execution_count": 34,
     "metadata": {},
     "output_type": "execute_result"
    }
   ],
   "source": [
    "#join back to original dataset\n",
    "X_train_new=X_train.reset_index(drop=True)\n",
    "X_train_new=pd.concat([X_train_new,imputed_X_train_n[['install_year']]],axis=1)\n",
    "X_train_new = X_train_new.dropna(axis='columns')\n",
    "X_train_new.head()"
   ]
  },
  {
   "cell_type": "code",
   "execution_count": 35,
   "metadata": {},
   "outputs": [
    {
     "data": {
      "text/plain": [
       "array(['Protected Shallow Well', 'unknown', 'Unprotected Shallow Well',\n",
       "       'Borehole', 'other', 'Piped Water'], dtype=object)"
      ]
     },
     "execution_count": 35,
     "metadata": {},
     "output_type": "execute_result"
    }
   ],
   "source": [
    "X_train_new['water_source'].unique()"
   ]
  },
  {
   "cell_type": "code",
   "execution_count": 36,
   "metadata": {},
   "outputs": [
    {
     "data": {
      "text/plain": [
       "array(['Hand Pump', 'Rope and Bucket', 'other', 'Tapstand', 'unknown'],\n",
       "      dtype=object)"
      ]
     },
     "execution_count": 36,
     "metadata": {},
     "output_type": "execute_result"
    }
   ],
   "source": [
    "X_train_new['water_tech'].unique()"
   ]
  },
  {
   "cell_type": "markdown",
   "metadata": {},
   "source": [
    "##### Dummy Encodeing"
   ]
  },
  {
   "cell_type": "code",
   "execution_count": 37,
   "metadata": {},
   "outputs": [],
   "source": [
    "X_train_new2=X_train_new.copy()\n",
    "X_train_new2=pd.get_dummies(X_train_new2)"
   ]
  },
  {
   "cell_type": "code",
   "execution_count": 38,
   "metadata": {},
   "outputs": [
    {
     "data": {
      "text/plain": [
       "row_id                                   0\n",
       "lat_deg                                  0\n",
       "lon_deg                                  0\n",
       "install_year                             0\n",
       "water_source_Borehole                    0\n",
       "water_source_Piped Water                 0\n",
       "water_source_Protected Shallow Well      0\n",
       "water_source_Unprotected Shallow Well    0\n",
       "water_source_other                       0\n",
       "water_source_unknown                     0\n",
       "water_tech_Hand Pump                     0\n",
       "water_tech_Rope and Bucket               0\n",
       "water_tech_Tapstand                      0\n",
       "water_tech_other                         0\n",
       "water_tech_unknown                       0\n",
       "facility_type_Improved                   0\n",
       "facility_type_Unimproved                 0\n",
       "facility_type_other                      0\n",
       "facility_type_unknown                    0\n",
       "installer_Community                      0\n",
       "installer_GVWC                           0\n",
       "installer_Government                     0\n",
       "installer_Other                          0\n",
       "installer_Private                        0\n",
       "installer_Private Person                 0\n",
       "installer_Religious Group                0\n",
       "installer_United Nations (UN)            0\n",
       "installer_Water Aid                      0\n",
       "installer_other                          0\n",
       "installer_unknown                        0\n",
       "pay_No                                   0\n",
       "pay_Yes                                  0\n",
       "pay_its complicated                      0\n",
       "pay_unknown                              0\n",
       "dtype: int64"
      ]
     },
     "execution_count": 38,
     "metadata": {},
     "output_type": "execute_result"
    }
   ],
   "source": [
    "# water[water.pay=='nan']\n",
    "X_train=X_train_new2.copy()\n",
    "X_train_new2.isna().sum()\n"
   ]
  },
  {
   "cell_type": "markdown",
   "metadata": {},
   "source": [
    "##### Match indexing of y to x"
   ]
  },
  {
   "cell_type": "code",
   "execution_count": 39,
   "metadata": {},
   "outputs": [],
   "source": [
    "y_train.reset_index(drop=True, inplace=True)"
   ]
  },
  {
   "cell_type": "markdown",
   "metadata": {},
   "source": [
    "##### 10 fold stratified cross validation"
   ]
  },
  {
   "cell_type": "code",
   "execution_count": null,
   "metadata": {},
   "outputs": [],
   "source": [
    "#not tune needed as multiple trees \n",
    "# define the model\n",
    "model = RandomForestClassifier(n_estimators=1000)\n",
    "lst_accu_stratified=[]\n",
    "aucs=[]\n",
    "fold_no = 1\n",
    "fig, ax = plt.subplots(figsize=(12, 6))\n",
    "#use training data to create k fold cross validation sets stratified on status_id\n",
    "skf=StratifiedKFold(n_splits=10, random_state=None, shuffle=False)\n",
    "for train_index, test_index in skf.split(X_train, y_train):\n",
    "#      print(\"TRAIN:\", train_index, \"Holdout:\", test_index)\n",
    "    x_train_fold, x_test_fold = X_train.loc[train_index,:], X_train.loc[test_index,:]\n",
    "    y_train_fold, y_test_fold = y_train[train_index], y_train[test_index]\n",
    "    model.fit(x_train_fold, y_train_fold)\n",
    "    lst_accu_stratified.append(model.score(x_test_fold, y_test_fold))\n",
    "    print(f'Fold {fold_no}  has score {model.score(x_test_fold, y_test_fold)}')\n",
    "    y_probs = model.predict_proba(x_test_fold)\n",
    "    # keep probabilities for the positive outcome only\n",
    "    rf_probs = y_probs[:, 1]\n",
    "    # calculate scores\n",
    "    skplt.metrics.plot_roc(y_test_fold, y_probs,ax=ax)\n",
    "    rf_auc = roc_auc_score(y_test_fold, rf_probs)\n",
    "    aucs.append(rf_auc)\n",
    "    fold_no += 1\n",
    "plt.show()"
   ]
  },
  {
   "cell_type": "markdown",
   "metadata": {},
   "source": [
    "##### Explore CV results"
   ]
  },
  {
   "cell_type": "code",
   "execution_count": 365,
   "metadata": {},
   "outputs": [
    {
     "data": {
      "text/plain": [
       "(0.8757986447241045, 0.9601018752887528)"
      ]
     },
     "execution_count": 365,
     "metadata": {},
     "output_type": "execute_result"
    }
   ],
   "source": [
    "#Mean accuracy\n",
    "np.mean(lst_accu_stratified),np.mean(aucs)"
   ]
  },
  {
   "cell_type": "markdown",
   "metadata": {},
   "source": [
    "##### Fit on training"
   ]
  },
  {
   "cell_type": "code",
   "execution_count": null,
   "metadata": {},
   "outputs": [],
   "source": [
    "model = RandomForestClassifier(n_estimators=1000)\n",
    "model.fit(X_train,y_train)\n",
    "y_pred_test=model.predict(X_test)\n",
    "confusion_matrix(y_test,y_pred_test)"
   ]
  }
 ],
 "metadata": {
  "kernelspec": {
   "display_name": "Python 3",
   "language": "python",
   "name": "python3"
  },
  "language_info": {
   "codemirror_mode": {
    "name": "ipython",
    "version": 3
   },
   "file_extension": ".py",
   "mimetype": "text/x-python",
   "name": "python",
   "nbconvert_exporter": "python",
   "pygments_lexer": "ipython3",
   "version": "3.8.5"
  }
 },
 "nbformat": 4,
 "nbformat_minor": 4
}
